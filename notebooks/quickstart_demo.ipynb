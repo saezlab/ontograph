{
 "cells": [
  {
   "cell_type": "markdown",
   "metadata": {},
   "source": [
    "# OntoGraph Usage - Jupyter Notebook"
   ]
  },
  {
   "cell_type": "markdown",
   "metadata": {},
   "source": [
    "[//]: # (------------------------------------------    DO NOT MODIFY THIS    ------------------------------------------)\n",
    "<style type=\"text/css\">\n",
    ".tg  {border-collapse:collapse;\n",
    "      border-spacing:0;\n",
    "     }\n",
    ".tg td{border-color:black;\n",
    "       border-style:solid;\n",
    "       border-width:1px;\n",
    "       font-family:Arial, sans-serif;\n",
    "       font-size:14px;\n",
    "       overflow:hidden;\n",
    "       padding:10px 5px;\n",
    "       word-break:normal;\n",
    "      }\n",
    ".tg th{border-color:black;\n",
    "       border-style:solid;\n",
    "       border-width:1px;\n",
    "       font-family:Arial, sans-serif;\n",
    "       font-size:14px;\n",
    "       font-weight:normal;\n",
    "       overflow:hidden;\n",
    "       padding:10px 5px;\n",
    "       word-break:normal;\n",
    "      }\n",
    ".tg .tg-fymr{border-color:inherit;\n",
    "             font-weight:bold;\n",
    "             text-align:left;\n",
    "             vertical-align:top\n",
    "            }\n",
    ".tg .tg-0pky{border-color:inherit;\n",
    "             text-align:left;\n",
    "             vertical-align:top\n",
    "            }\n",
    "[//]: # (--------------------------------------------------------------------------------------------------------------)\n",
    "[//]: # (-------------------------------------    FILL THIS OUT WITH YOUR DATA    -------------------------------------)\n",
    "[//]: # (--------------------------------------------------------------------------------------------------------------)\n",
    "</style>\n",
    "<table class=\"tg\">\n",
    "    <tbody>\n",
    "      <tr>\n",
    "        <td class=\"tg-fymr\" style=\"font-weight: bold\">Title:</td>\n",
    "        <td class=\"tg-0pky\">OntoGraph Usage - Jupyter Notebook </td>\n",
    "      </tr>\n",
    "      <tr>\n",
    "        <td class=\"tg-fymr\" style=\"font-weight: bold\">Authors:</td>\n",
    "        <td class=\"tg-0pky\">\n",
    "            <a href=\"https://github.com/ecarrenolozano\" target=\"_blank\" rel=\"noopener noreferrer\">Edwin Carreño</a>,\n",
    "            <a href=\"\" target=\"_blank\" rel=\"noopener noreferrer\">Denes Türei</a>\n",
    "        </td>\n",
    "      </tr>\n",
    "      <tr>\n",
    "        <td class=\"tg-fymr\" style=\"font-weight: bold\">Affiliations:</td>\n",
    "        <td class=\"tg-0pky\">\n",
    "            <a href=\"https://www.ssc.uni-heidelberg.de/en\" target=\"_blank\" rel=\"noopener noreferrer\">Scientific Software Center</a>,\n",
    "            <a href=\"https://saezlab.org/\" target=\"_blank\" rel=\"noopener noreferrer\">Saez-Rodriguez Group</a>\n",
    "        </td>\n",
    "      </tr>\n",
    "      <tr>\n",
    "        <td class=\"tg-fymr\" style=\"font-weight: bold\">Date Created:</td>\n",
    "        <td class=\"tg-0pky\">30.10.2024</td>\n",
    "      </tr>\n",
    "      <tr>\n",
    "        <td class=\"tg-fymr\" style=\"font-weight: bold\">Description:</td>\n",
    "        <td class=\"tg-0pky\">This notebook is a sandbox to explore, test, and demonstrate the core functionalities of the `OntoGraph` package, helping refine the user experience and gather early feedback before writing the official documentation.</td>\n",
    "      </tr>\n",
    "    </tbody>\n",
    "</table>\n",
    "\n",
    "[//]: # (--------------------------------------------------------------------------------------------------------------)"
   ]
  },
  {
   "cell_type": "markdown",
   "metadata": {},
   "source": [
    "## Overview\n",
    "\n",
    "This notebook serves as a **sandbox environment** to explore and test the functionalities of the `OntoGraph` Python package. It is designed to:  \n",
    "\n",
    "- Evaluate the **user experience** during development.  \n",
    "- Demonstrate common use cases and workflows to potential users.  \n",
    "- Collect feedback from collaborators before finalizing the official documentation.\n",
    "- Help to create use cases based on what the user wants.\n",
    "\n",
    "Feel free to execute, modify, and extend the examples in this notebook to better understand how the package can be used in real scenarios."
   ]
  },
  {
   "cell_type": "markdown",
   "metadata": {},
   "source": [
    "## How to Use This Notebook\n",
    "\n",
    "1. Run cells sequentially from top to bottom.\n",
    "2. If using an environment manager (e.g., `conda`, `venv`), activate it before running.\n",
    "3. To reset, click `Kernel -> Restart & Run All`."
   ]
  },
  {
   "cell_type": "markdown",
   "metadata": {
    "vscode": {
     "languageId": "plaintext"
    }
   },
   "source": [
    "## Importing Libraries"
   ]
  },
  {
   "cell_type": "code",
   "execution_count": null,
   "metadata": {},
   "outputs": [],
   "source": [
    "# 1. Standard library imports\n",
    "import sys\n",
    "\n",
    "sys.path.append('/home/ecarreno/SSC-Projects/b_REPOSITORIES/ontograph')\n",
    "\n",
    "from pathlib import Path\n",
    "\n",
    "# 2. Related third party imports\n",
    "# 3. Local application/library specific imports\n",
    "from ontograph.downloader import PoochDownloaderAdapter\n",
    "from ontograph.ontology_query import OntologyQueries\n",
    "from ontograph.ontology_loader import ProntoLoaderAdapter\n",
    "from ontograph.ontology_registry import OBORegistryAdapter"
   ]
  },
  {
   "cell_type": "markdown",
   "metadata": {},
   "source": [
    "## Defining a `cache` folder\n",
    "\n",
    "In this cache folder we are going to store all the ontologies and other files like the ontology registry metadata from OBO foundry."
   ]
  },
  {
   "cell_type": "code",
   "execution_count": null,
   "metadata": {},
   "outputs": [],
   "source": [
    "cache_dir = Path('../data/out')"
   ]
  },
  {
   "cell_type": "markdown",
   "metadata": {},
   "source": [
    "## Step 1. Create a registry with all the ontologies\n",
    "\n",
    "We are going to create a registry based on all the metadata that OBO Foundy has."
   ]
  },
  {
   "cell_type": "code",
   "execution_count": null,
   "metadata": {},
   "outputs": [],
   "source": [
    "onto_registry = OBORegistryAdapter(cache_dir=cache_dir)"
   ]
  },
  {
   "cell_type": "markdown",
   "metadata": {},
   "source": [
    "### Load the registry (in case of not having the registry it will be downloaded automatically)"
   ]
  },
  {
   "cell_type": "code",
   "execution_count": null,
   "metadata": {},
   "outputs": [],
   "source": [
    "onto_registry.load_registry()"
   ]
  },
  {
   "cell_type": "markdown",
   "metadata": {},
   "source": [
    "### Print registry' schema"
   ]
  },
  {
   "cell_type": "code",
   "execution_count": null,
   "metadata": {},
   "outputs": [],
   "source": [
    "onto_registry.print_registry_schema_tree()"
   ]
  },
  {
   "cell_type": "markdown",
   "metadata": {},
   "source": [
    "### List of available ontologies"
   ]
  },
  {
   "cell_type": "code",
   "execution_count": null,
   "metadata": {},
   "outputs": [],
   "source": [
    "for ontology in onto_registry.list_available_ontologies():\n",
    "    print(ontology)"
   ]
  },
  {
   "cell_type": "markdown",
   "metadata": {},
   "source": [
    "### Print the link associated to a valid ontology (e.g., 'chebi')"
   ]
  },
  {
   "cell_type": "code",
   "execution_count": null,
   "metadata": {},
   "outputs": [],
   "source": [
    "# This function looks if the given ontology has a link with a given extension\n",
    "\n",
    "print('Link: {}'.format(onto_registry.get_download_url('chebi', 'obo')))"
   ]
  },
  {
   "cell_type": "markdown",
   "metadata": {},
   "source": [
    "### Print available formats for a valid ontology"
   ]
  },
  {
   "cell_type": "code",
   "execution_count": null,
   "metadata": {},
   "outputs": [],
   "source": [
    "print(onto_registry.get_available_formats(ontology_id='chebi'))"
   ]
  },
  {
   "cell_type": "markdown",
   "metadata": {},
   "source": [
    "## Step 2. Download specific ontologies"
   ]
  },
  {
   "cell_type": "markdown",
   "metadata": {},
   "source": [
    "### Create a downloader object"
   ]
  },
  {
   "cell_type": "code",
   "execution_count": null,
   "metadata": {},
   "outputs": [],
   "source": [
    "downloader = PoochDownloaderAdapter(\n",
    "    cache_dir=cache_dir,\n",
    "    registry=onto_registry,\n",
    ")"
   ]
  },
  {
   "cell_type": "markdown",
   "metadata": {},
   "source": [
    "### Download multiple ontologies at once"
   ]
  },
  {
   "cell_type": "code",
   "execution_count": null,
   "metadata": {},
   "outputs": [],
   "source": [
    "# Put the ontologies and their formats as a dictionary\n",
    "resources = [\n",
    "    {'name_id': 'chebi', 'format': 'owl'},\n",
    "    {'name_id': 'go', 'format': 'obo'},\n",
    "    {'name_id': 'ado', 'format': 'owl'},\n",
    "]\n",
    "\n",
    "# Use the downloader, it has a cache in case you have already downloaded the ontologies.\n",
    "batch_results = downloader.fetch_batch(resources)\n",
    "\n",
    "# Print all the paths where your ontologies are located\n",
    "print('Ontologies in cache:')\n",
    "for ontology_name, ontology_path in batch_results.items():\n",
    "    print(f'\\t{ontology_name}: {ontology_path}')"
   ]
  },
  {
   "cell_type": "markdown",
   "metadata": {},
   "source": [
    "## Step 3. Load ontologies"
   ]
  },
  {
   "cell_type": "markdown",
   "metadata": {},
   "source": [
    "### Create a loader for the ontology. Behind scenes it uses `Pronto`. However, it can be another one. You as a final user will not notice this."
   ]
  },
  {
   "cell_type": "code",
   "execution_count": null,
   "metadata": {},
   "outputs": [],
   "source": [
    "ontology_loader = ProntoLoaderAdapter(cache_dir=cache_dir)"
   ]
  },
  {
   "cell_type": "markdown",
   "metadata": {},
   "source": [
    "### Load the `go` ontology in `obo` format"
   ]
  },
  {
   "cell_type": "code",
   "execution_count": null,
   "metadata": {},
   "outputs": [],
   "source": [
    "name_id_go = 'go'\n",
    "format_go = 'obo'\n",
    "\n",
    "gene_ontology = ontology_loader.load(name_id=name_id_go, format=format_go)\n",
    "\n",
    "print(f'Loaded ontology: {name_id_go}.{format_go}')\n",
    "print(f'Number of terms: {len(gene_ontology.terms())}')"
   ]
  },
  {
   "cell_type": "markdown",
   "metadata": {},
   "source": [
    "### Step 4. Query the ontology"
   ]
  },
  {
   "cell_type": "code",
   "execution_count": null,
   "metadata": {},
   "outputs": [],
   "source": [
    "# term_id = \"GO:0008150\" # biological_process\n",
    "# term_id = \"GO:0160266\"  # anestrus phase\n",
    "term_id = 'GO:0070360'  # symbiont-mediated actin polymerization-dependent cell-to-cell migration in host"
   ]
  },
  {
   "cell_type": "code",
   "execution_count": null,
   "metadata": {},
   "outputs": [],
   "source": [
    "queries = OntologyQueries(gene_ontology)\n",
    "\n",
    "# Print term relations\n",
    "print(f'Term: {term_id}')\n",
    "print(f'  Parents     : {queries.parents(term_id)}')\n",
    "print(f'  Children    : {queries.children(term_id)}')\n",
    "\n",
    "\n",
    "# print(f\"  Ancestors   : {queries.ancestors(term_id)}\")\n",
    "# print(f\"  Descendants : {queries.descendants(term_id)}\")"
   ]
  },
  {
   "cell_type": "code",
   "execution_count": null,
   "metadata": {},
   "outputs": [],
   "source": []
  },
  {
   "cell_type": "code",
   "execution_count": null,
   "metadata": {},
   "outputs": [],
   "source": []
  },
  {
   "cell_type": "code",
   "execution_count": null,
   "metadata": {},
   "outputs": [],
   "source": []
  },
  {
   "cell_type": "code",
   "execution_count": null,
   "metadata": {},
   "outputs": [],
   "source": []
  },
  {
   "cell_type": "markdown",
   "metadata": {},
   "source": [
    "## References and Further Reading\n",
    "\n",
    "- [OBO Foundry](https://obofoundry.org/)\n",
    "- [`pronto` documentation](https://pronto.readthedocs.io/en/stable/)\n",
    "- [`pooch` documentation](https://www.fatiando.org/pooch/latest/)"
   ]
  }
 ],
 "metadata": {
  "kernelspec": {
   "display_name": "ontograph",
   "language": "python",
   "name": "python3"
  },
  "language_info": {
   "codemirror_mode": {
    "name": "ipython",
    "version": 3
   },
   "file_extension": ".py",
   "mimetype": "text/x-python",
   "name": "python",
   "nbconvert_exporter": "python",
   "pygments_lexer": "ipython3",
   "version": "3.10.12"
  }
 },
 "nbformat": 4,
 "nbformat_minor": 4
}
