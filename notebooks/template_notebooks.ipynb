{
 "cells": [
  {
   "cell_type": "markdown",
   "metadata": {},
   "source": [
    "# Jupyter Template for Tutorials"
   ]
  },
  {
   "cell_type": "markdown",
   "metadata": {},
   "source": [
    "[//]: # (------------------------------------------    DO NOT MODIFY THIS    ------------------------------------------)\n",
    "<style type=\"text/css\">\n",
    ".tg  {border-collapse:collapse;\n",
    "      border-spacing:0;\n",
    "     }\n",
    ".tg td{border-color:black;\n",
    "       border-style:solid;\n",
    "       border-width:1px;\n",
    "       font-family:Arial, sans-serif;\n",
    "       font-size:14px;\n",
    "       overflow:hidden;\n",
    "       padding:10px 5px;\n",
    "       word-break:normal;\n",
    "      }\n",
    ".tg th{border-color:black;\n",
    "       border-style:solid;\n",
    "       border-width:1px;\n",
    "       font-family:Arial, sans-serif;\n",
    "       font-size:14px;\n",
    "       font-weight:normal;\n",
    "       overflow:hidden;\n",
    "       padding:10px 5px;\n",
    "       word-break:normal;\n",
    "      }\n",
    ".tg .tg-fymr{border-color:inherit;\n",
    "             font-weight:bold;\n",
    "             text-align:left;\n",
    "             vertical-align:top\n",
    "            }\n",
    ".tg .tg-0pky{border-color:inherit;\n",
    "             text-align:left;\n",
    "             vertical-align:top\n",
    "            }\n",
    "[//]: # (--------------------------------------------------------------------------------------------------------------)\n",
    "[//]: # (-------------------------------------    FILL THIS OUT WITH YOUR DATA    -------------------------------------)\n",
    "[//]: # (--------------------------------------------------------------------------------------------------------------)\n",
    "</style>\n",
    "<table class=\"tg\">\n",
    "    <tbody>\n",
    "      <tr>\n",
    "        <td class=\"tg-fymr\" style=\"font-weight: bold\">Title:</td>\n",
    "        <td class=\"tg-0pky\">Jupyter Template for Tutorials</td>\n",
    "      </tr>\n",
    "      <tr>\n",
    "        <td class=\"tg-fymr\" style=\"font-weight: bold\">Authors:</td>\n",
    "        <td class=\"tg-0pky\">\n",
    "            <a href=\"https://github.com/ecarrenolozano\" target=\"_blank\" rel=\"noopener noreferrer\">Edwin Carreño</a>,\n",
    "            <a href=\"\" target=\"_blank\" rel=\"noopener noreferrer\">AUTHOR 2</a>,\n",
    "            <a href=\"\" target=\"_blank\" rel=\"noopener noreferrer\">AUTHOR 3</a>\n",
    "        </td>\n",
    "      </tr>\n",
    "      <tr>\n",
    "        <td class=\"tg-fymr\" style=\"font-weight: bold\">Affiliations:</td>\n",
    "        <td class=\"tg-0pky\">\n",
    "            <a href=\"https://www.ssc.uni-heidelberg.de/en\" target=\"_blank\" rel=\"noopener noreferrer\">Scientific Software Center</a>,\n",
    "            <a href=\"https://saezlab.org/\" target=\"_blank\" rel=\"noopener noreferrer\">Saez-Rodriguez Group</a>,\n",
    "            <a href=\"\" target=\"_blank\" rel=\"noopener noreferrer\">AFFILIATION 3</a>\n",
    "        </td>\n",
    "      </tr>\n",
    "      <tr>\n",
    "        <td class=\"tg-fymr\" style=\"font-weight: bold\">Date Created:</td>\n",
    "        <td class=\"tg-0pky\">30.10.2024</td>\n",
    "      </tr>\n",
    "      <tr>\n",
    "        <td class=\"tg-fymr\" style=\"font-weight: bold\">Description:</td>\n",
    "        <td class=\"tg-0pky\">Minimal format for a professional Jupyter Notebook for improved clarity and maintenance</td>\n",
    "      </tr>\n",
    "    </tbody>\n",
    "</table>\n",
    "\n",
    "[//]: # (--------------------------------------------------------------------------------------------------------------)"
   ]
  },
  {
   "cell_type": "markdown",
   "metadata": {},
   "source": [
    "## Overview\n",
    "\n",
    "This Jupyter Notebook explores the capabilities of the Pronto library as a potential core component for developing a custom ontology library within Saezlab. We aim to complete the following:\n",
    "\n",
    "- [ ] Download ontologies from Standards Ontology Services (OBO foundy and OLS)\n",
    "- [ ] Use Pronto library to solve  "
   ]
  },
  {
   "cell_type": "markdown",
   "metadata": {},
   "source": [
    "## How to Use This Notebook\n",
    "\n",
    "1. Run cells sequentially from top to bottom.\n",
    "2. If using an environment manager (e.g., `conda`, `venv`), activate it before running.\n",
    "3. To reset, click `Kernel -> Restart & Run All`."
   ]
  },
  {
   "cell_type": "markdown",
   "metadata": {
    "vscode": {
     "languageId": "plaintext"
    }
   },
   "source": [
    "## Importing Libraries"
   ]
  },
  {
   "cell_type": "code",
   "execution_count": 45,
   "metadata": {},
   "outputs": [],
   "source": [
    "# 1. Standard library imports\n",
    "import sys\n",
    "from collections import defaultdict\n",
    "from types import NoneType\n",
    "\n",
    "sys.path.append(\"/home/ecarreno/SSC-Projects/b_REPOSITORIES/ontograph\")\n",
    "\n",
    "# 2. Related third party imports\n",
    "import pronto\n",
    "\n",
    "# 3. Local application/library specific imports\n",
    "from ontograph.downloader import download_file\n",
    "import ontograph.constants as constants"
   ]
  },
  {
   "cell_type": "markdown",
   "metadata": {},
   "source": [
    "## Download the Gene Ontology"
   ]
  },
  {
   "cell_type": "code",
   "execution_count": 2,
   "metadata": {},
   "outputs": [
    {
     "name": "stderr",
     "output_type": "stream",
     "text": [
      "Downloading data from 'https://purl.obolibrary.org/obo/go.obo' to file '/home/ecarreno/SSC-Projects/b_REPOSITORIES/ontograph/notebooks/cache/gene_ontology.obo'.\n",
      "100%|█████████████████████████████████████| 35.1M/35.1M [00:00<00:00, 97.7GB/s]\n",
      "SHA256 hash of downloaded file: 0908af70601dd41f2c55f664ca5d5959e939162362e9a5573c6794b5d850e601\n",
      "Use this value as the 'known_hash' argument of 'pooch.retrieve' to ensure that the file hasn't changed if it is downloaded again in the future.\n"
     ]
    },
    {
     "name": "stdout",
     "output_type": "stream",
     "text": [
      "Gene Ontology OBO file cached at: /home/ecarreno/SSC-Projects/b_REPOSITORIES/ontograph/notebooks/cache/gene_ontology.obo\n"
     ]
    }
   ],
   "source": [
    "CACHE_DIRECTORY = \"cache\"\n",
    "\n",
    "url_go_obo = \"https://purl.obolibrary.org/obo/go.obo\"\n",
    "\n",
    "# Download and cache the Gene Ontology OWL file\n",
    "gene_ontology_path = download_file(\n",
    "    url=url_go_obo,\n",
    "    fname=\"gene_ontology.obo\",\n",
    "    cache_dir=CACHE_DIRECTORY,\n",
    ")\n",
    "\n",
    "print(f\"Gene Ontology OBO file cached at: {gene_ontology_path}\")"
   ]
  },
  {
   "cell_type": "markdown",
   "metadata": {},
   "source": [
    "## Read Gene Ontology\n",
    "\n"
   ]
  },
  {
   "cell_type": "code",
   "execution_count": 76,
   "metadata": {},
   "outputs": [],
   "source": [
    "gene_ontology = pronto.Ontology(gene_ontology_path)"
   ]
  },
  {
   "cell_type": "markdown",
   "metadata": {},
   "source": [
    "### Extract Metadata"
   ]
  },
  {
   "cell_type": "code",
   "execution_count": 75,
   "metadata": {},
   "outputs": [],
   "source": [
    "def extract_annotations(pronto_ontology):\n",
    "    annotations = defaultdict(list)\n",
    "\n",
    "    if pronto_ontology.metadata.annotations:\n",
    "        for item in pronto_ontology.metadata.annotations:\n",
    "            if isinstance(item, pronto.ResourcePropertyValue):\n",
    "                annotations[item.property].append(item.resource)\n",
    "            elif isinstance(item, pronto.LiteralPropertyValue):\n",
    "                annotations[item.property].append(item.literal)\n",
    "\n",
    "        # Collapse single-item lists\n",
    "        annotations_collapsed = {\n",
    "            key: values[0] if len(values) == 1 else values\n",
    "            for key, values in annotations.items()\n",
    "        }\n",
    "        return annotations_collapsed\n",
    "    return None\n",
    "\n",
    "\n",
    "def extract_metadata(pronto_ontology):\n",
    "    metadata = dict()\n",
    "    metadata[\"Format_version\"] = pronto_ontology.metadata.format_version\n",
    "    metadata[\"Data_version\"] = pronto_ontology.metadata.data_version\n",
    "    metadata[\"Ontology_identifier\"] = pronto_ontology.metadata.ontology\n",
    "    metadata[\"Last_update\"] = pronto_ontology.metadata.date\n",
    "\n",
    "    annotations = extract_annotations(pronto_ontology)\n",
    "\n",
    "    if not isinstance(annotations, NoneType):\n",
    "        metadata[\"Name\"] = annotations[\"dc:title\"]\n",
    "        metadata[\"Description\"] = annotations[\"dc:description\"]\n",
    "        metadata[\"License\"] = annotations[\"terms:license\"]\n",
    "        metadata[\"Roots\"] = annotations[\"has_ontology_root_term\"]\n",
    "\n",
    "    return metadata\n",
    "\n",
    "\n",
    "def print_metadata(pronto_ontology):\n",
    "    for key, value in extract_metadata(pronto_ontology).items():\n",
    "        print(f\"{key}: \\n\\t{value}\")"
   ]
  },
  {
   "cell_type": "code",
   "execution_count": 77,
   "metadata": {},
   "outputs": [
    {
     "name": "stdout",
     "output_type": "stream",
     "text": [
      "Format_version: \n",
      "\t1.2\n",
      "Data_version: \n",
      "\treleases/2025-06-01\n",
      "Ontology_identifier: \n",
      "\tgo\n",
      "Last_update: \n",
      "\tNone\n",
      "Name: \n",
      "\tGene Ontology\n",
      "Description: \n",
      "\tThe Gene Ontology (GO) provides a framework and set of concepts for describing the functions of gene products from all organisms.\n",
      "License: \n",
      "\thttp://creativecommons.org/licenses/by/4.0/\n",
      "Roots: \n",
      "\t['GO:0003674', 'GO:0005575', 'GO:0008150']\n"
     ]
    }
   ],
   "source": [
    "print_metadata(gene_ontology)"
   ]
  },
  {
   "cell_type": "code",
   "execution_count": null,
   "metadata": {},
   "outputs": [],
   "source": []
  },
  {
   "cell_type": "code",
   "execution_count": null,
   "metadata": {},
   "outputs": [],
   "source": []
  },
  {
   "cell_type": "markdown",
   "metadata": {},
   "source": [
    "## References and Further Reading\n",
    "\n",
    "- [ Documentation](https://.org/docs/)\n",
    "- [NetworkX Guide](https://networkx.org/documentation/stable/tutorial.html)\n",
    "\n",
    "Include citations for any external content or suggested resources for deeper learning."
   ]
  }
 ],
 "metadata": {
  "kernelspec": {
   "display_name": "Python 3",
   "language": "python",
   "name": "python3"
  },
  "language_info": {
   "codemirror_mode": {
    "name": "ipython",
    "version": 3
   },
   "file_extension": ".py",
   "mimetype": "text/x-python",
   "name": "python",
   "nbconvert_exporter": "python",
   "pygments_lexer": "ipython3",
   "version": "3.10.12"
  }
 },
 "nbformat": 4,
 "nbformat_minor": 4
}
