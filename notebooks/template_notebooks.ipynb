{
 "cells": [
  {
   "cell_type": "markdown",
   "metadata": {},
   "source": [
    "# Jupyter Template for Tutorials"
   ]
  },
  {
   "cell_type": "markdown",
   "metadata": {},
   "source": [
    "[//]: # (------------------------------------------    DO NOT MODIFY THIS    ------------------------------------------)\n",
    "<style type=\"text/css\">\n",
    ".tg  {border-collapse:collapse;\n",
    "      border-spacing:0;\n",
    "     }\n",
    ".tg td{border-color:black;\n",
    "       border-style:solid;\n",
    "       border-width:1px;\n",
    "       font-family:Arial, sans-serif;\n",
    "       font-size:14px;\n",
    "       overflow:hidden;\n",
    "       padding:10px 5px;\n",
    "       word-break:normal;\n",
    "      }\n",
    ".tg th{border-color:black;\n",
    "       border-style:solid;\n",
    "       border-width:1px;\n",
    "       font-family:Arial, sans-serif;\n",
    "       font-size:14px;\n",
    "       font-weight:normal;\n",
    "       overflow:hidden;\n",
    "       padding:10px 5px;\n",
    "       word-break:normal;\n",
    "      }\n",
    ".tg .tg-fymr{border-color:inherit;\n",
    "             font-weight:bold;\n",
    "             text-align:left;\n",
    "             vertical-align:top\n",
    "            }\n",
    ".tg .tg-0pky{border-color:inherit;\n",
    "             text-align:left;\n",
    "             vertical-align:top\n",
    "            }\n",
    "[//]: # (--------------------------------------------------------------------------------------------------------------)\n",
    "[//]: # (-------------------------------------    FILL THIS OUT WITH YOUR DATA    -------------------------------------)\n",
    "[//]: # (--------------------------------------------------------------------------------------------------------------)\n",
    "</style>\n",
    "<table class=\"tg\">\n",
    "    <tbody>\n",
    "      <tr>\n",
    "        <td class=\"tg-fymr\" style=\"font-weight: bold\">Title:</td>\n",
    "        <td class=\"tg-0pky\">Jupyter Template for Tutorials</td>\n",
    "      </tr>\n",
    "      <tr>\n",
    "        <td class=\"tg-fymr\" style=\"font-weight: bold\">Authors:</td>\n",
    "        <td class=\"tg-0pky\">\n",
    "            <a href=\"https://github.com/ecarrenolozano\" target=\"_blank\" rel=\"noopener noreferrer\">Edwin Carreño</a>,\n",
    "            <a href=\"\" target=\"_blank\" rel=\"noopener noreferrer\">AUTHOR 2</a>,\n",
    "            <a href=\"\" target=\"_blank\" rel=\"noopener noreferrer\">AUTHOR 3</a>\n",
    "        </td>\n",
    "      </tr>\n",
    "      <tr>\n",
    "        <td class=\"tg-fymr\" style=\"font-weight: bold\">Affiliations:</td>\n",
    "        <td class=\"tg-0pky\">\n",
    "            <a href=\"https://www.ssc.uni-heidelberg.de/en\" target=\"_blank\" rel=\"noopener noreferrer\">Scientific Software Center</a>,\n",
    "            <a href=\"https://saezlab.org/\" target=\"_blank\" rel=\"noopener noreferrer\">Saez-Rodriguez Group</a>,\n",
    "            <a href=\"\" target=\"_blank\" rel=\"noopener noreferrer\">AFFILIATION 3</a>\n",
    "        </td>\n",
    "      </tr>\n",
    "      <tr>\n",
    "        <td class=\"tg-fymr\" style=\"font-weight: bold\">Date Created:</td>\n",
    "        <td class=\"tg-0pky\">30.10.2024</td>\n",
    "      </tr>\n",
    "      <tr>\n",
    "        <td class=\"tg-fymr\" style=\"font-weight: bold\">Description:</td>\n",
    "        <td class=\"tg-0pky\">Minimal format for a professional Jupyter Notebook for improved clarity and maintenance</td>\n",
    "      </tr>\n",
    "    </tbody>\n",
    "</table>\n",
    "\n",
    "[//]: # (--------------------------------------------------------------------------------------------------------------)"
   ]
  },
  {
   "cell_type": "markdown",
   "metadata": {},
   "source": [
    "## Overview\n",
    "\n",
    "This Jupyter Notebook explores the capabilities of the Pronto library as a potential core component for developing a custom ontology library within Saezlab. We aim to complete the following:\n",
    "\n",
    "- [ ] Download ontologies from Standards Ontology Services (OBO foundy and OLS)\n",
    "- [ ] Use Pronto library to solve  "
   ]
  },
  {
   "cell_type": "markdown",
   "metadata": {},
   "source": [
    "## How to Use This Notebook\n",
    "\n",
    "1. Run cells sequentially from top to bottom.\n",
    "2. If using an environment manager (e.g., `conda`, `venv`), activate it before running.\n",
    "3. To reset, click `Kernel -> Restart & Run All`."
   ]
  },
  {
   "cell_type": "markdown",
   "metadata": {
    "vscode": {
     "languageId": "plaintext"
    }
   },
   "source": [
    "## Importing Libraries"
   ]
  },
  {
   "cell_type": "code",
   "execution_count": null,
   "metadata": {},
   "outputs": [],
   "source": [
    "# 1. Standard library imports\n",
    "import sys\n",
    "from collections import defaultdict\n",
    "from types import NoneType\n",
    "\n",
    "sys.path.append(\"/home/ecarreno/SSC-Projects/b_REPOSITORIES/ontograph\")\n",
    "\n",
    "# 2. Related third party imports\n",
    "import pronto\n",
    "\n",
    "# 3. Local application/library specific imports\n",
    "from ontograph._downloader import download_file\n",
    "import ontograph._constants as _constants"
   ]
  },
  {
   "cell_type": "markdown",
   "metadata": {},
   "source": [
    "## Download the Gene Ontology"
   ]
  },
  {
   "cell_type": "code",
   "execution_count": null,
   "metadata": {},
   "outputs": [],
   "source": [
    "CACHE_DIRECTORY = \"cache\"\n",
    "\n",
    "url_go_obo = \"https://purl.obolibrary.org/obo/go.obo\"\n",
    "\n",
    "# Download and cache the Gene Ontology OWL file\n",
    "gene_ontology_path = download_file(\n",
    "    url=url_go_obo,\n",
    "    fname=\"gene_ontology.obo\",\n",
    "    cache_dir=CACHE_DIRECTORY,\n",
    ")\n",
    "\n",
    "print(f\"Gene Ontology OBO file cached at: {gene_ontology_path}\")"
   ]
  },
  {
   "cell_type": "markdown",
   "metadata": {},
   "source": [
    "## Read Gene Ontology\n",
    "\n"
   ]
  },
  {
   "cell_type": "code",
   "execution_count": null,
   "metadata": {},
   "outputs": [],
   "source": [
    "gene_ontology = pronto.Ontology(gene_ontology_path)"
   ]
  },
  {
   "cell_type": "markdown",
   "metadata": {},
   "source": [
    "### Extract Metadata"
   ]
  },
  {
   "cell_type": "code",
   "execution_count": null,
   "metadata": {},
   "outputs": [],
   "source": [
    "def extract_annotations(pronto_ontology):\n",
    "    annotations = defaultdict(list)\n",
    "\n",
    "    if pronto_ontology.metadata.annotations:\n",
    "        for item in pronto_ontology.metadata.annotations:\n",
    "            if isinstance(item, pronto.ResourcePropertyValue):\n",
    "                annotations[item.property].append(item.resource)\n",
    "            elif isinstance(item, pronto.LiteralPropertyValue):\n",
    "                annotations[item.property].append(item.literal)\n",
    "\n",
    "        # Collapse single-item lists\n",
    "        annotations_collapsed = {\n",
    "            key: values[0] if len(values) == 1 else values\n",
    "            for key, values in annotations.items()\n",
    "        }\n",
    "        return annotations_collapsed\n",
    "    return None\n",
    "\n",
    "\n",
    "def extract_metadata(pronto_ontology):\n",
    "    metadata = dict()\n",
    "    metadata[\"Format_version\"] = pronto_ontology.metadata.format_version\n",
    "    metadata[\"Data_version\"] = pronto_ontology.metadata.data_version\n",
    "    metadata[\"Ontology_identifier\"] = pronto_ontology.metadata.ontology\n",
    "    metadata[\"Last_update\"] = pronto_ontology.metadata.date\n",
    "\n",
    "    annotations = extract_annotations(pronto_ontology)\n",
    "\n",
    "    if not isinstance(annotations, NoneType):\n",
    "        metadata[\"Name\"] = annotations[\"dc:title\"]\n",
    "        metadata[\"Description\"] = annotations[\"dc:description\"]\n",
    "        metadata[\"License\"] = annotations[\"terms:license\"]\n",
    "        metadata[\"Roots\"] = annotations[\"has_ontology_root_term\"]\n",
    "\n",
    "    return metadata\n",
    "\n",
    "\n",
    "def print_metadata(pronto_ontology):\n",
    "    for key, value in extract_metadata(pronto_ontology).items():\n",
    "        print(f\"{key}: \\n\\t{value}\")"
   ]
  },
  {
   "cell_type": "code",
   "execution_count": null,
   "metadata": {},
   "outputs": [],
   "source": [
    "print_metadata(gene_ontology)"
   ]
  },
  {
   "cell_type": "code",
   "execution_count": null,
   "metadata": {},
   "outputs": [],
   "source": []
  },
  {
   "cell_type": "code",
   "execution_count": null,
   "metadata": {},
   "outputs": [],
   "source": []
  },
  {
   "cell_type": "markdown",
   "metadata": {},
   "source": [
    "## References and Further Reading\n",
    "\n",
    "- [ Documentation](https://.org/docs/)\n",
    "- [NetworkX Guide](https://networkx.org/documentation/stable/tutorial.html)\n",
    "\n",
    "Include citations for any external content or suggested resources for deeper learning."
   ]
  },
  {
   "cell_type": "code",
   "execution_count": null,
   "metadata": {},
   "outputs": [],
   "source": []
  },
  {
   "cell_type": "code",
   "execution_count": null,
   "metadata": {},
   "outputs": [
    {
     "name": "stdout",
     "output_type": "stream",
     "text": [
      "Added to sys.path: /home/edwin/SSC-Projects/b_REPOSITORIES/ontograph\n"
     ]
    }
   ],
   "source": [
    "import sys\n",
    "import os\n",
    "\n",
    "# Get the absolute path to the parent folder (where both 'notebooks' and 'ontograph' live)\n",
    "project_root = os.path.abspath(os.path.join(os.getcwd(), \"..\"))\n",
    "\n",
    "# Insert at front of sys.path so it's prioritized\n",
    "sys.path.insert(0, project_root)\n",
    "\n",
    "print(\"Added to sys.path:\", project_root)"
   ]
  },
  {
   "cell_type": "code",
   "execution_count": 3,
   "metadata": {},
   "outputs": [
    {
     "name": "stderr",
     "output_type": "stream",
     "text": [
      "Downloading data from 'http://purl.obolibrary.org/obo/go.obo' to file '/home/edwin/.ontograph_cache/go.obo'.\n",
      "SHA256 hash of downloaded file: 0908af70601dd41f2c55f664ca5d5959e939162362e9a5573c6794b5d850e601\n",
      "Use this value as the 'known_hash' argument of 'pooch.retrieve' to ensure that the file hasn't changed if it is downloaded again in the future.\n"
     ]
    },
    {
     "name": "stdout",
     "output_type": "stream",
     "text": [
      "{'name': 'go', 'version': 'releases/2025-06-01', 'format': '1.2'}\n"
     ]
    },
    {
     "ename": "AttributeError",
     "evalue": "'Ontology' object has no attribute 'roots'",
     "output_type": "error",
     "traceback": [
      "\u001b[0;31m---------------------------------------------------------------------------\u001b[0m",
      "\u001b[0;31mAttributeError\u001b[0m                            Traceback (most recent call last)",
      "Cell \u001b[0;32mIn[3], line 7\u001b[0m\n\u001b[1;32m      4\u001b[0m gene_ontology \u001b[38;5;241m=\u001b[39m client\u001b[38;5;241m.\u001b[39mload(name_id\u001b[38;5;241m=\u001b[39m\u001b[38;5;124m\"\u001b[39m\u001b[38;5;124mgo\u001b[39m\u001b[38;5;124m\"\u001b[39m, \u001b[38;5;28mformat\u001b[39m\u001b[38;5;241m=\u001b[39m\u001b[38;5;124m\"\u001b[39m\u001b[38;5;124mobo\u001b[39m\u001b[38;5;124m\"\u001b[39m)\n\u001b[1;32m      6\u001b[0m \u001b[38;5;28mprint\u001b[39m(gene_ontology\u001b[38;5;241m.\u001b[39mmetadata())\n\u001b[0;32m----> 7\u001b[0m \u001b[38;5;28mprint\u001b[39m([root\u001b[38;5;241m.\u001b[39mid \u001b[38;5;28;01mfor\u001b[39;00m root \u001b[38;5;129;01min\u001b[39;00m \u001b[43mgene_ontology\u001b[49m\u001b[38;5;241;43m.\u001b[39;49m\u001b[43mroots\u001b[49m\u001b[43m(\u001b[49m\u001b[43m)\u001b[49m])\n",
      "File \u001b[0;32m~/SSC-Projects/b_REPOSITORIES/ontograph/ontograph/api/client.py:51\u001b[0m, in \u001b[0;36mOntologyWrapper.roots\u001b[0;34m(self)\u001b[0m\n\u001b[1;32m     50\u001b[0m \u001b[38;5;28;01mdef\u001b[39;00m\u001b[38;5;250m \u001b[39m\u001b[38;5;21mroots\u001b[39m(\u001b[38;5;28mself\u001b[39m):\n\u001b[0;32m---> 51\u001b[0m     \u001b[38;5;28;01mreturn\u001b[39;00m \u001b[38;5;28mlist\u001b[39m(\u001b[38;5;28;43mself\u001b[39;49m\u001b[38;5;241;43m.\u001b[39;49m\u001b[43montology\u001b[49m\u001b[38;5;241;43m.\u001b[39;49m\u001b[43mroots\u001b[49m())\n",
      "\u001b[0;31mAttributeError\u001b[0m: 'Ontology' object has no attribute 'roots'"
     ]
    }
   ],
   "source": [
    "from ontograph.api.client import OntologyClient\n",
    "\n",
    "client = OntologyClient()\n",
    "gene_ontology = client.load(name_id=\"go\", format=\"obo\")\n",
    "\n",
    "print(gene_ontology.metadata())\n",
    "print([root.id for root in gene_ontology.roots()])"
   ]
  },
  {
   "cell_type": "code",
   "execution_count": null,
   "metadata": {},
   "outputs": [],
   "source": [
    "print(os.listdir(sys.path[0]))"
   ]
  },
  {
   "cell_type": "code",
   "execution_count": null,
   "metadata": {},
   "outputs": [],
   "source": [
    "import ontograph.api.client\n",
    "\n",
    "\n",
    "ontograph.api."
   ]
  }
 ],
 "metadata": {
  "kernelspec": {
   "display_name": "ontograph",
   "language": "python",
   "name": "python3"
  },
  "language_info": {
   "codemirror_mode": {
    "name": "ipython",
    "version": 3
   },
   "file_extension": ".py",
   "mimetype": "text/x-python",
   "name": "python",
   "nbconvert_exporter": "python",
   "pygments_lexer": "ipython3",
   "version": "3.10.18"
  }
 },
 "nbformat": 4,
 "nbformat_minor": 4
}
